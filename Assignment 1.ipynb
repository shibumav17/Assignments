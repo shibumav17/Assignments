{
 "cells": [
  {
   "cell_type": "markdown",
   "id": "0aba8c5a",
   "metadata": {},
   "source": [
    "1. In the below elements which of them are values or an expression? eg:- values can be integer or string and expressions will be mathematical operators.\n",
    "* \n",
    "'hello'\n",
    "-87.8\n",
    "- \n",
    "/ \n",
    "+\t\n",
    "6 \n",
    "\n"
   ]
  },
  {
   "cell_type": "markdown",
   "id": "89b5e2a4",
   "metadata": {},
   "source": [
    "Values - \"hello\", -87.8 , 6 \n",
    "\n",
    "Expression - * , + , - , /"
   ]
  },
  {
   "cell_type": "markdown",
   "id": "75ec582d",
   "metadata": {},
   "source": [
    "2. What is the difference between string and variable?"
   ]
  },
  {
   "cell_type": "markdown",
   "id": "fcf8ecd9",
   "metadata": {},
   "source": [
    "String -  It is a data type which is used to write a program. \n",
    "It is basically a simple text format. for eg. 'harshit'.\n",
    "\n",
    "\n",
    "Variable - These are symbols that is used to store data.\n",
    "It is used to perform commands like addition or multiplication within different data types.\n",
    "for eg.- s = 121223."
   ]
  },
  {
   "cell_type": "markdown",
   "id": "db0c96e3",
   "metadata": {},
   "source": [
    "3. Describe three different data types."
   ]
  },
  {
   "cell_type": "markdown",
   "id": "75370cf6",
   "metadata": {},
   "source": [
    "Three types of data types :  \n",
    "(i)Integer - Any numeric value is described as integer.It is represented by - int.\n",
    "\n",
    "(ii)Boolean - It is a data type which gives True or False as output. \n",
    "                            \n",
    "(iii)Set - A data type which is used to remove repeating elements.It is represented by - {}.\n",
    "                         "
   ]
  },
  {
   "cell_type": "markdown",
   "id": "2de60399",
   "metadata": {},
   "source": [
    "4. What is an expression made up of? What do all expressions do?\n",
    "\n",
    "Expression is a value which is used to assign values to a data type.\n",
    "They are used to perform different types of mathematical actions such as addition or multiplication. "
   ]
  },
  {
   "cell_type": "markdown",
   "id": "65670e89",
   "metadata": {},
   "source": [
    "5. This assignment statements, like spam = 10. What is the difference between an expression and a statement?"
   ]
  },
  {
   "cell_type": "markdown",
   "id": "c95d3b78",
   "metadata": {},
   "source": [
    "The difference between a statement and an expression is that an expression is used to define values and return a new output everytime while a statement is simply a sentence which may or may not return a new output.\n",
    "As spam = 10 is a simple statement which won't return a new output when executed."
   ]
  },
  {
   "cell_type": "markdown",
   "id": "f0add71e",
   "metadata": {},
   "source": [
    "6. After running the following code, what does the variable bacon contain?\n"
   ]
  },
  {
   "cell_type": "code",
   "execution_count": 7,
   "id": "f5aaab53",
   "metadata": {},
   "outputs": [
    {
     "data": {
      "text/plain": [
       "23"
      ]
     },
     "execution_count": 7,
     "metadata": {},
     "output_type": "execute_result"
    }
   ],
   "source": [
    "bacon = 22\n",
    "bacon + 1"
   ]
  },
  {
   "cell_type": "markdown",
   "id": "05785935",
   "metadata": {},
   "source": [
    "the variable bacon contain 23 as output."
   ]
  },
  {
   "cell_type": "markdown",
   "id": "c4feeb4f",
   "metadata": {},
   "source": [
    "7. What should the values of the following two terms be?"
   ]
  },
  {
   "cell_type": "code",
   "execution_count": 8,
   "id": "bce2d85b",
   "metadata": {},
   "outputs": [
    {
     "data": {
      "text/plain": [
       "'spamspamspam'"
      ]
     },
     "execution_count": 8,
     "metadata": {},
     "output_type": "execute_result"
    }
   ],
   "source": [
    "'spam' + 'spamspam'"
   ]
  },
  {
   "cell_type": "code",
   "execution_count": 9,
   "id": "2e19c214",
   "metadata": {},
   "outputs": [
    {
     "data": {
      "text/plain": [
       "'spamspamspam'"
      ]
     },
     "execution_count": 9,
     "metadata": {},
     "output_type": "execute_result"
    }
   ],
   "source": [
    "'spam' * 3"
   ]
  },
  {
   "cell_type": "markdown",
   "id": "62a385c7",
   "metadata": {},
   "source": [
    "8. Why is eggs a valid variable name while 100 is invalid?\n"
   ]
  },
  {
   "cell_type": "markdown",
   "id": "857edf8f",
   "metadata": {},
   "source": [
    "The reason why eggs is a variable and 100 is not is because eggs is in a alphabetical order which is property of a variable and 100 is an integer which is not a variable."
   ]
  },
  {
   "cell_type": "markdown",
   "id": "b41b0fc3",
   "metadata": {},
   "source": [
    "9. What three functions can be used to get the integer, floating-point number, or string version of a value?"
   ]
  },
  {
   "cell_type": "markdown",
   "id": "65914ff4",
   "metadata": {},
   "source": [
    "The functions used are : \n",
    "(i)Integer - int()\n",
    "\n",
    "(ii)Floating point number - float()\n",
    "\n",
    "(iii)String - str()"
   ]
  },
  {
   "cell_type": "markdown",
   "id": "cca17493",
   "metadata": {},
   "source": [
    "10. Why does this expression cause an error? How can you fix it?"
   ]
  },
  {
   "cell_type": "markdown",
   "id": "1ef81863",
   "metadata": {},
   "source": [
    "'I have eaten ' + 99 + ' burritos'"
   ]
  },
  {
   "cell_type": "markdown",
   "id": "35b2fcdf",
   "metadata": {},
   "source": [
    "The reason why this code contains error is because 'I have eaten' and 'burritos' are strings and '99' is an integer.\n",
    "And it can only concatenate string to string and not string to integer.\n"
   ]
  },
  {
   "cell_type": "markdown",
   "id": "1fdfdbd7",
   "metadata": {},
   "source": [
    "We can remove this error by converting '99' into string format by using str(99)."
   ]
  },
  {
   "cell_type": "code",
   "execution_count": 16,
   "id": "5fbd9c51",
   "metadata": {},
   "outputs": [
    {
     "data": {
      "text/plain": [
       "'I have eaten 99 burritos'"
      ]
     },
     "execution_count": 16,
     "metadata": {},
     "output_type": "execute_result"
    }
   ],
   "source": [
    "'I have eaten ' + str(99) + ' burritos'"
   ]
  }
 ],
 "metadata": {
  "kernelspec": {
   "display_name": "Python 3 (ipykernel)",
   "language": "python",
   "name": "python3"
  },
  "language_info": {
   "codemirror_mode": {
    "name": "ipython",
    "version": 3
   },
   "file_extension": ".py",
   "mimetype": "text/x-python",
   "name": "python",
   "nbconvert_exporter": "python",
   "pygments_lexer": "ipython3",
   "version": "3.9.7"
  }
 },
 "nbformat": 4,
 "nbformat_minor": 5
}
